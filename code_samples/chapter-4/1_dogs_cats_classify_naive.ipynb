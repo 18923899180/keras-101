{
 "cells": [
  {
   "cell_type": "markdown",
   "metadata": {},
   "source": [
    "# 深度学习基础\n",
    "\n",
    "## 1.从零开始训练 猫狗识别 模型"
   ]
  },
  {
   "cell_type": "markdown",
   "metadata": {},
   "source": [
    "## 数据集准备\n",
    "\n",
    "![tree.png](images/tree.png)"
   ]
  },
  {
   "cell_type": "code",
   "execution_count": 1,
   "metadata": {},
   "outputs": [],
   "source": [
    "import os, shutil\n",
    "\n",
    "# 下载 dogs-vs-cats 数据集并解压 train.zip\n",
    "original_dataset_dir = 'dogs-vs-cats/train/'\n",
    "\n",
    "# 设置数据集各级目录名称\n",
    "base_dir = 'data'\n",
    "data_dirs = ['train', 'validation', 'test']\n",
    "class_dirs = ['cat', 'dog']\n",
    "\n",
    "# 分别设置训练、验证和测试数据集的图像文件区间\n",
    "images = {\n",
    "    'train': [0, 1000],\n",
    "    'validation': [1000, 1500],\n",
    "    'test': [1500, 2000],\n",
    "}\n",
    "\n",
    "for d in data_dirs:\n",
    "    for c in class_dirs:\n",
    "        # 构造数据集目录，格式示例：'data/train/dog/'\n",
    "        dataset_dir = f\"{base_dir}/{d}/{c}/\"\n",
    "        os.makedirs(dataset_dir, exist_ok=True)\n",
    "        # 构造图像文件名称，格式示例：'cat.1.jpg'\n",
    "        fnames = [f'{c}.{i}.jpg' for i in range(images[d][0], images[d][1])]\n",
    "        # 将挑选的图像文件拷贝到对应的数据集目录下\n",
    "        for fname in fnames:\n",
    "            shutil.copyfile(original_dataset_dir+fname, dataset_dir+fname)"
   ]
  },
  {
   "cell_type": "markdown",
   "metadata": {},
   "source": [
    "## 模型构建\n",
    "\n",
    "![model.png](images/model.png)\n"
   ]
  },
  {
   "cell_type": "code",
   "execution_count": 3,
   "metadata": {},
   "outputs": [
    {
     "name": "stderr",
     "output_type": "stream",
     "text": [
      "Using TensorFlow backend.\n"
     ]
    },
    {
     "name": "stdout",
     "output_type": "stream",
     "text": [
      "WARNING:tensorflow:From /Users/django/anaconda3/lib/python3.7/site-packages/tensorflow/python/framework/op_def_library.py:263: colocate_with (from tensorflow.python.framework.ops) is deprecated and will be removed in a future version.\n",
      "Instructions for updating:\n",
      "Colocations handled automatically by placer.\n"
     ]
    }
   ],
   "source": [
    "from keras import models, layers, optimizers\n",
    "\n",
    "model = models.Sequential() \n",
    "\n",
    "model.add(layers.Conv2D(32, (3, 3), activation='relu',\n",
    "                        input_shape=(150, 150, 3)))\n",
    "model.add(layers.MaxPooling2D((2, 2)))\n",
    "model.add(layers.Conv2D(64, (3, 3), activation='relu'))\n",
    "model.add(layers.MaxPooling2D((2, 2))) \n",
    "model.add(layers.Conv2D(128, (3, 3), activation='relu')) \n",
    "model.add(layers.MaxPooling2D((2, 2))) \n",
    "model.add(layers.Conv2D(128, (3, 3), activation='relu')) \n",
    "model.add(layers.MaxPooling2D((2, 2)))\n",
    "model.add(layers.Flatten()) \n",
    "\n",
    "model.add(layers.Dense(512, activation='relu')) \n",
    "model.add(layers.Dense(1, activation='sigmoid'))\n"
   ]
  },
  {
   "cell_type": "code",
   "execution_count": 35,
   "metadata": {},
   "outputs": [],
   "source": [
    "# 模型可视化\n",
    "# from keras.utils import plot_model\n",
    "# plot_model(model, to_file='model.png')"
   ]
  },
  {
   "cell_type": "code",
   "execution_count": 4,
   "metadata": {},
   "outputs": [
    {
     "name": "stdout",
     "output_type": "stream",
     "text": [
      "Model: \"sequential_1\"\n",
      "_________________________________________________________________\n",
      "Layer (type)                 Output Shape              Param #   \n",
      "=================================================================\n",
      "conv2d_1 (Conv2D)            (None, 148, 148, 32)      896       \n",
      "_________________________________________________________________\n",
      "max_pooling2d_1 (MaxPooling2 (None, 74, 74, 32)        0         \n",
      "_________________________________________________________________\n",
      "conv2d_2 (Conv2D)            (None, 72, 72, 64)        18496     \n",
      "_________________________________________________________________\n",
      "max_pooling2d_2 (MaxPooling2 (None, 36, 36, 64)        0         \n",
      "_________________________________________________________________\n",
      "conv2d_3 (Conv2D)            (None, 34, 34, 128)       73856     \n",
      "_________________________________________________________________\n",
      "max_pooling2d_3 (MaxPooling2 (None, 17, 17, 128)       0         \n",
      "_________________________________________________________________\n",
      "conv2d_4 (Conv2D)            (None, 15, 15, 128)       147584    \n",
      "_________________________________________________________________\n",
      "max_pooling2d_4 (MaxPooling2 (None, 7, 7, 128)         0         \n",
      "_________________________________________________________________\n",
      "flatten_1 (Flatten)          (None, 6272)              0         \n",
      "_________________________________________________________________\n",
      "dense_1 (Dense)              (None, 512)               3211776   \n",
      "_________________________________________________________________\n",
      "dense_2 (Dense)              (None, 1)                 513       \n",
      "=================================================================\n",
      "Total params: 3,453,121\n",
      "Trainable params: 3,453,121\n",
      "Non-trainable params: 0\n",
      "_________________________________________________________________\n"
     ]
    }
   ],
   "source": [
    "model.summary()"
   ]
  },
  {
   "cell_type": "markdown",
   "metadata": {},
   "source": [
    "## 模型编译"
   ]
  },
  {
   "cell_type": "code",
   "execution_count": 5,
   "metadata": {},
   "outputs": [],
   "source": [
    "model.compile(loss='binary_crossentropy', \n",
    "              optimizer=optimizers.RMSprop(lr=1e-4),\n",
    "              metrics=['acc'])"
   ]
  },
  {
   "cell_type": "markdown",
   "metadata": {},
   "source": [
    "## 数据预处理\n",
    "\n",
    "(1) 读取图像文件。\n",
    "\n",
    "(2) 将 JPEG 文件解码为 RGB 像素网格。\n",
    "\n",
    "(3) 将这些像素网格转换为浮点数张量。\n",
    "\n",
    "(4) 将像素值(0~255 范围内)缩放到 [0, 1] 区间。"
   ]
  },
  {
   "cell_type": "code",
   "execution_count": 6,
   "metadata": {},
   "outputs": [
    {
     "name": "stdout",
     "output_type": "stream",
     "text": [
      "Found 2000 images belonging to 2 classes.\n",
      "Found 1000 images belonging to 2 classes.\n"
     ]
    }
   ],
   "source": [
    "from keras.preprocessing.image import ImageDataGenerator\n",
    "\n",
    "# 使用 ImageDataGenerator 从目录中读取图像\n",
    "train_datagen = ImageDataGenerator(rescale=1./255)\n",
    "test_datagen = ImageDataGenerator(rescale=1./255)\n",
    "\n",
    "# 创建训练集数据生成器，猫和狗各1000张\n",
    "train_generator = train_datagen.flow_from_directory(\n",
    "        'data/train',\n",
    "        target_size=(150, 150),\n",
    "        batch_size=20,\n",
    "        class_mode='binary')\n",
    "\n",
    "# 创建验证集数据生成器，猫和狗各500张\n",
    "test_generator = test_datagen.flow_from_directory(\n",
    "        'data/test',\n",
    "        target_size=(150, 150),\n",
    "        batch_size=20,\n",
    "        class_mode='binary')"
   ]
  },
  {
   "cell_type": "code",
   "execution_count": 7,
   "metadata": {},
   "outputs": [
    {
     "name": "stdout",
     "output_type": "stream",
     "text": [
      "data_batch.shape:(20, 150, 150, 3)\n",
      "labels_batch.shape:(20,)\n"
     ]
    }
   ],
   "source": [
    "for data_batch, labels_batch in train_generator:\n",
    "    print(f'data_batch.shape:{data_batch.shape}')\n",
    "    print(f'labels_batch.shape:{labels_batch.shape}')\n",
    "    break"
   ]
  },
  {
   "cell_type": "markdown",
   "metadata": {},
   "source": [
    "## 模型训练"
   ]
  },
  {
   "cell_type": "code",
   "execution_count": 25,
   "metadata": {},
   "outputs": [
    {
     "name": "stdout",
     "output_type": "stream",
     "text": [
      "Epoch 1/30\n",
      "50/50 [==============================] - 32s 649ms/step - loss: 0.6435 - acc: 0.6330 - val_loss: 0.6443 - val_acc: 0.6430\n",
      "Epoch 2/30\n",
      "50/50 [==============================] - 33s 666ms/step - loss: 0.6124 - acc: 0.6560 - val_loss: 0.6466 - val_acc: 0.5970\n",
      "Epoch 3/30\n",
      "50/50 [==============================] - 35s 699ms/step - loss: 0.6025 - acc: 0.6740 - val_loss: 0.6502 - val_acc: 0.5970\n",
      "Epoch 4/30\n",
      "50/50 [==============================] - 35s 707ms/step - loss: 0.5903 - acc: 0.6920 - val_loss: 0.6044 - val_acc: 0.6730\n",
      "Epoch 5/30\n",
      "50/50 [==============================] - 35s 708ms/step - loss: 0.5818 - acc: 0.6880 - val_loss: 0.5960 - val_acc: 0.6760\n",
      "Epoch 6/30\n",
      "50/50 [==============================] - 36s 726ms/step - loss: 0.5609 - acc: 0.7080 - val_loss: 0.5854 - val_acc: 0.6870\n",
      "Epoch 7/30\n",
      "50/50 [==============================] - 39s 782ms/step - loss: 0.5359 - acc: 0.7350 - val_loss: 0.6485 - val_acc: 0.6550\n",
      "Epoch 8/30\n",
      "50/50 [==============================] - 40s 809ms/step - loss: 0.5437 - acc: 0.7280 - val_loss: 0.6074 - val_acc: 0.6640\n",
      "Epoch 9/30\n",
      "50/50 [==============================] - 38s 769ms/step - loss: 0.5324 - acc: 0.7200 - val_loss: 0.6614 - val_acc: 0.6510\n",
      "Epoch 10/30\n",
      "50/50 [==============================] - 37s 750ms/step - loss: 0.5120 - acc: 0.7430 - val_loss: 0.6200 - val_acc: 0.6800\n",
      "Epoch 11/30\n",
      "50/50 [==============================] - 37s 744ms/step - loss: 0.4980 - acc: 0.7540 - val_loss: 0.6200 - val_acc: 0.6780\n",
      "Epoch 12/30\n",
      "50/50 [==============================] - 34s 678ms/step - loss: 0.5217 - acc: 0.7540 - val_loss: 0.5633 - val_acc: 0.7000\n",
      "Epoch 13/30\n",
      "50/50 [==============================] - 34s 672ms/step - loss: 0.4841 - acc: 0.7580 - val_loss: 0.5634 - val_acc: 0.6990\n",
      "Epoch 14/30\n",
      "50/50 [==============================] - 33s 670ms/step - loss: 0.4932 - acc: 0.7580 - val_loss: 0.5876 - val_acc: 0.6830\n",
      "Epoch 15/30\n",
      "50/50 [==============================] - 34s 673ms/step - loss: 0.4951 - acc: 0.7540 - val_loss: 0.5567 - val_acc: 0.7150\n",
      "Epoch 16/30\n",
      "50/50 [==============================] - 34s 672ms/step - loss: 0.4554 - acc: 0.7820 - val_loss: 0.5492 - val_acc: 0.7210\n",
      "Epoch 17/30\n",
      "50/50 [==============================] - 34s 672ms/step - loss: 0.4521 - acc: 0.7790 - val_loss: 0.5438 - val_acc: 0.7280\n",
      "Epoch 18/30\n",
      "50/50 [==============================] - 34s 671ms/step - loss: 0.4511 - acc: 0.7980 - val_loss: 0.5438 - val_acc: 0.7200\n",
      "Epoch 19/30\n",
      "50/50 [==============================] - 34s 671ms/step - loss: 0.4137 - acc: 0.8040 - val_loss: 0.5675 - val_acc: 0.7210\n",
      "Epoch 20/30\n",
      "50/50 [==============================] - 35s 694ms/step - loss: 0.4251 - acc: 0.8080 - val_loss: 0.5346 - val_acc: 0.7370\n",
      "Epoch 21/30\n",
      "50/50 [==============================] - 35s 709ms/step - loss: 0.4113 - acc: 0.8190 - val_loss: 0.5386 - val_acc: 0.7330\n",
      "Epoch 22/30\n",
      "50/50 [==============================] - 36s 724ms/step - loss: 0.4102 - acc: 0.8010 - val_loss: 0.5427 - val_acc: 0.7260\n",
      "Epoch 23/30\n",
      "50/50 [==============================] - 36s 716ms/step - loss: 0.3998 - acc: 0.8100 - val_loss: 0.5461 - val_acc: 0.7380\n",
      "Epoch 24/30\n",
      "50/50 [==============================] - 40s 805ms/step - loss: 0.3896 - acc: 0.8190 - val_loss: 0.5258 - val_acc: 0.7390\n",
      "Epoch 25/30\n",
      "50/50 [==============================] - 42s 830ms/step - loss: 0.3675 - acc: 0.8310 - val_loss: 0.5335 - val_acc: 0.7460\n",
      "Epoch 26/30\n",
      "50/50 [==============================] - 42s 845ms/step - loss: 0.3865 - acc: 0.8340 - val_loss: 0.5527 - val_acc: 0.7420\n",
      "Epoch 27/30\n",
      "50/50 [==============================] - 43s 858ms/step - loss: 0.3696 - acc: 0.8290 - val_loss: 0.5364 - val_acc: 0.7360\n",
      "Epoch 28/30\n",
      "50/50 [==============================] - 38s 767ms/step - loss: 0.3603 - acc: 0.8510 - val_loss: 0.5565 - val_acc: 0.7410\n",
      "Epoch 29/30\n",
      "50/50 [==============================] - 40s 792ms/step - loss: 0.3245 - acc: 0.8500 - val_loss: 0.5223 - val_acc: 0.7500\n",
      "Epoch 30/30\n",
      "50/50 [==============================] - 40s 795ms/step - loss: 0.3603 - acc: 0.8530 - val_loss: 0.6098 - val_acc: 0.7220\n"
     ]
    }
   ],
   "source": [
    "history = model.fit_generator(train_generator,\n",
    "                              steps_per_epoch=50,\n",
    "                              epochs=30,\n",
    "                              validation_data=test_generator,\n",
    "                              validation_steps=50)"
   ]
  },
  {
   "cell_type": "markdown",
   "metadata": {},
   "source": [
    "## 模型保存"
   ]
  },
  {
   "cell_type": "code",
   "execution_count": 26,
   "metadata": {},
   "outputs": [],
   "source": [
    "model.save('cats_and_dogs_small_1.h5')"
   ]
  },
  {
   "cell_type": "markdown",
   "metadata": {},
   "source": [
    "## 模型评估"
   ]
  },
  {
   "cell_type": "code",
   "execution_count": 27,
   "metadata": {},
   "outputs": [
    {
     "data": {
      "image/png": "[encoded data removed]",
      "text/plain": [
       "<Figure size 432x288 with 1 Axes>"
      ]
     },
     "metadata": {
      "needs_background": "light"
     },
     "output_type": "display_data"
    },
    {
     "data": {
      "image/png": "[encoded data removed]",
      "text/plain": [
       "<Figure size 432x288 with 1 Axes>"
      ]
     },
     "metadata": {
      "needs_background": "light"
     },
     "output_type": "display_data"
    }
   ],
   "source": [
    "import matplotlib.pyplot as plt\n",
    "\n",
    "acc = history.history['acc']\n",
    "val_acc = history.history['val_acc']\n",
    "loss = history.history['loss']\n",
    "val_loss = history.history['val_loss']\n",
    "\n",
    "epochs = range(1, len(acc) + 1)\n",
    "\n",
    "plt.plot(epochs, acc, 'bo', label='Training acc') \n",
    "plt.plot(epochs, val_acc, 'b', label='Validation acc') \n",
    "plt.title('Training and validation accuracy')\n",
    "plt.legend()\n",
    "    \n",
    "plt.figure()\n",
    "\n",
    "plt.plot(epochs, loss, 'bo', label='Training loss') \n",
    "plt.plot(epochs, val_loss, 'b', label='Validation loss') \n",
    "plt.title('Training and validation loss')\n",
    "plt.legend()\n",
    "\n",
    "plt.show()"
   ]
  }
 ],
 "metadata": {
  "kernelspec": {
   "display_name": "Python 3",
   "language": "python",
   "name": "python3"
  },
  "language_info": {
   "codemirror_mode": {
    "name": "ipython",
    "version": 3
   },
   "file_extension": ".py",
   "mimetype": "text/x-python",
   "name": "python",
   "nbconvert_exporter": "python",
   "pygments_lexer": "ipython3",
   "version": "3.7.3"
  }
 },
 "nbformat": 4,
 "nbformat_minor": 2
}
