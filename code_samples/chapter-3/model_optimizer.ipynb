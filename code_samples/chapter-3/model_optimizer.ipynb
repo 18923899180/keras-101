{
 "cells": [
  {
   "cell_type": "code",
   "execution_count": 1,
   "metadata": {},
   "outputs": [
    {
     "name": "stderr",
     "output_type": "stream",
     "text": [
      "Using TensorFlow backend.\n"
     ]
    }
   ],
   "source": [
    "import os\n",
    "import keras\n",
    "\n",
    "import numpy as np\n",
    "\n",
    "from keras import models, layers\n",
    "from keras import optimizers\n",
    "from keras.datasets import imdb"
   ]
  },
  {
   "cell_type": "code",
   "execution_count": 2,
   "metadata": {},
   "outputs": [],
   "source": [
    "(train_data, train_labels), (test_data, test_labels) = imdb.load_data(path=os.getcwd()+'/imdb.npz', num_words=10000)"
   ]
  },
  {
   "cell_type": "code",
   "execution_count": 24,
   "metadata": {},
   "outputs": [],
   "source": [
    "def vectorize(seqs, dim=10000):\n",
    "    ret = np.zeros((len(seqs), dim))\n",
    "    for i, seq in enumerate(seqs):\n",
    "        ret[i, seq] = 1\n",
    "    return ret\n",
    "\n",
    "x_train = vectorize(train_data)\n",
    "x_test = vectorize(test_data)\n",
    "\n",
    "y_train = np.asarray(train_labels).astype('float32')\n",
    "y_test = np.asarray(test_labels).astype('float32')\n",
    "\n",
    "x_val = x_train[:10000]\n",
    "partial_x_train = x_train[10000:]\n",
    "y_val = y_train[:10000]\n",
    "partial_y_train = y_train[10000:]\n",
    "\n",
    "\n",
    "batch_size = 128\n",
    "num_classes = 10\n",
    "epochs = 20"
   ]
  },
  {
   "cell_type": "markdown",
   "metadata": {},
   "source": [
    "## Original Model"
   ]
  },
  {
   "cell_type": "code",
   "execution_count": 4,
   "metadata": {},
   "outputs": [
    {
     "name": "stdout",
     "output_type": "stream",
     "text": [
      "WARNING:tensorflow:From /Users/django/anaconda3/lib/python3.7/site-packages/tensorflow/python/framework/op_def_library.py:263: colocate_with (from tensorflow.python.framework.ops) is deprecated and will be removed in a future version.\n",
      "Instructions for updating:\n",
      "Colocations handled automatically by placer.\n",
      "Model: \"sequential_1\"\n",
      "_________________________________________________________________\n",
      "Layer (type)                 Output Shape              Param #   \n",
      "=================================================================\n",
      "dense_1 (Dense)              (None, 16)                160016    \n",
      "_________________________________________________________________\n",
      "dense_2 (Dense)              (None, 16)                272       \n",
      "_________________________________________________________________\n",
      "dense_3 (Dense)              (None, 1)                 17        \n",
      "=================================================================\n",
      "Total params: 160,305\n",
      "Trainable params: 160,305\n",
      "Non-trainable params: 0\n",
      "_________________________________________________________________\n"
     ]
    }
   ],
   "source": [
    "model = models.Sequential()\n",
    "model.add(layers.Dense(16, activation='relu', input_shape=(10000,)))\n",
    "model.add(layers.Dense(16, activation='relu'))\n",
    "model.add(layers.Dense(1, activation='sigmoid'))\n",
    "\n",
    "\n",
    "model.compile(loss='binary_crossentropy',\n",
    "              optimizer=optimizers.RMSprop(lr=0.001),\n",
    "              metrics=['accuracy'])\n",
    "\n",
    "history = model.fit(partial_x_train,\n",
    "                    partial_y_train,\n",
    "                    batch_size=batch_size,\n",
    "                    epochs=epochs,\n",
    "                    verbose=1,\n",
    "                    validation_data=(x_val, y_val))"
   ]
  },
  {
   "cell_type": "code",
   "execution_count": 7,
   "metadata": {},
   "outputs": [],
   "source": [
    "history_dict = history.history\n",
    "m_model_loss = history_dict['val_loss']"
   ]
  },
  {
   "cell_type": "markdown",
   "metadata": {},
   "source": [
    "## Large Model"
   ]
  },
  {
   "cell_type": "code",
   "execution_count": 8,
   "metadata": {},
   "outputs": [
    {
     "name": "stdout",
     "output_type": "stream",
     "text": [
      "Train on 15000 samples, validate on 10000 samples\n",
      "Epoch 1/20\n",
      "15000/15000 [==============================] - 9s 568us/step - loss: 0.3950 - acc: 0.8279 - val_loss: 0.2798 - val_acc: 0.8869\n",
      "Epoch 2/20\n",
      "15000/15000 [==============================] - 8s 507us/step - loss: 0.1601 - acc: 0.9411 - val_loss: 0.3249 - val_acc: 0.8864\n",
      "Epoch 3/20\n",
      "15000/15000 [==============================] - 7s 491us/step - loss: 0.0574 - acc: 0.9810 - val_loss: 0.5111 - val_acc: 0.8828\n",
      "Epoch 4/20\n",
      "15000/15000 [==============================] - 7s 467us/step - loss: 0.0295 - acc: 0.9937 - val_loss: 0.6950 - val_acc: 0.8801\n",
      "Epoch 5/20\n",
      "15000/15000 [==============================] - 7s 479us/step - loss: 0.0302 - acc: 0.9943 - val_loss: 0.7718 - val_acc: 0.8798\n",
      "Epoch 6/20\n",
      "15000/15000 [==============================] - 7s 458us/step - loss: 0.0166 - acc: 0.9971 - val_loss: 0.8169 - val_acc: 0.8790\n",
      "Epoch 7/20\n",
      "15000/15000 [==============================] - 7s 480us/step - loss: 0.0165 - acc: 0.9971 - val_loss: 0.8933 - val_acc: 0.8777\n",
      "Epoch 8/20\n",
      "15000/15000 [==============================] - 7s 469us/step - loss: 0.0113 - acc: 0.9987 - val_loss: 1.1031 - val_acc: 0.8656\n",
      "Epoch 9/20\n",
      "15000/15000 [==============================] - 7s 495us/step - loss: 0.0251 - acc: 0.9967 - val_loss: 1.3351 - val_acc: 0.8406\n",
      "Epoch 10/20\n",
      "15000/15000 [==============================] - 7s 434us/step - loss: 0.0078 - acc: 0.9987 - val_loss: 0.9817 - val_acc: 0.8733\n",
      "Epoch 11/20\n",
      "15000/15000 [==============================] - 7s 453us/step - loss: 0.0246 - acc: 0.9967 - val_loss: 0.9613 - val_acc: 0.8668\n",
      "Epoch 12/20\n",
      "15000/15000 [==============================] - 7s 472us/step - loss: 0.0012 - acc: 0.9999 - val_loss: 1.1083 - val_acc: 0.8758\n",
      "Epoch 13/20\n",
      "15000/15000 [==============================] - 7s 455us/step - loss: 0.0071 - acc: 0.9988 - val_loss: 1.1204 - val_acc: 0.8754\n",
      "Epoch 14/20\n",
      "15000/15000 [==============================] - 7s 449us/step - loss: 0.0011 - acc: 0.9999 - val_loss: 1.1925 - val_acc: 0.8708\n",
      "Epoch 15/20\n",
      "15000/15000 [==============================] - 7s 439us/step - loss: 0.0037 - acc: 0.9995 - val_loss: 1.1491 - val_acc: 0.8746\n",
      "Epoch 16/20\n",
      "15000/15000 [==============================] - 7s 457us/step - loss: 0.0122 - acc: 0.9987 - val_loss: 1.3119 - val_acc: 0.8596\n",
      "Epoch 17/20\n",
      "15000/15000 [==============================] - 7s 479us/step - loss: 0.0029 - acc: 0.9997 - val_loss: 1.7558 - val_acc: 0.8259\n",
      "Epoch 18/20\n",
      "15000/15000 [==============================] - 7s 465us/step - loss: 0.0024 - acc: 0.9997 - val_loss: 1.2132 - val_acc: 0.8757\n",
      "Epoch 19/20\n",
      "15000/15000 [==============================] - 7s 442us/step - loss: 0.0011 - acc: 0.9999 - val_loss: 1.2630 - val_acc: 0.8763\n",
      "Epoch 20/20\n",
      "15000/15000 [==============================] - 7s 460us/step - loss: 0.0011 - acc: 0.9999 - val_loss: 1.2991 - val_acc: 0.8766\n"
     ]
    }
   ],
   "source": [
    "model = models.Sequential()\n",
    "model.add(layers.Dense(512, activation='relu', input_shape=(10000,)))\n",
    "model.add(layers.Dense(512, activation='relu'))\n",
    "model.add(layers.Dense(1, activation='sigmoid'))\n",
    "\n",
    "\n",
    "model.compile(loss='binary_crossentropy',\n",
    "              optimizer=optimizers.RMSprop(lr=0.001),\n",
    "              metrics=['accuracy'])\n",
    "\n",
    "history = model.fit(partial_x_train,\n",
    "                    partial_y_train,\n",
    "                    batch_size=batch_size,\n",
    "                    epochs=epochs,\n",
    "                    verbose=1,\n",
    "                    validation_data=(x_val, y_val))"
   ]
  },
  {
   "cell_type": "code",
   "execution_count": 9,
   "metadata": {},
   "outputs": [],
   "source": [
    "history_dict = history.history\n",
    "l_model_loss = history_dict['val_loss']"
   ]
  },
  {
   "cell_type": "markdown",
   "metadata": {},
   "source": [
    "## Small Model"
   ]
  },
  {
   "cell_type": "code",
   "execution_count": 10,
   "metadata": {},
   "outputs": [
    {
     "name": "stdout",
     "output_type": "stream",
     "text": [
      "Train on 15000 samples, validate on 10000 samples\n",
      "Epoch 1/20\n",
      "15000/15000 [==============================] - 2s 111us/step - loss: 0.5703 - acc: 0.7251 - val_loss: 0.4988 - val_acc: 0.8315\n",
      "Epoch 2/20\n",
      "15000/15000 [==============================] - 1s 86us/step - loss: 0.4306 - acc: 0.8867 - val_loss: 0.4245 - val_acc: 0.8893\n",
      "Epoch 3/20\n",
      "15000/15000 [==============================] - 1s 82us/step - loss: 0.3438 - acc: 0.9241 - val_loss: 0.3695 - val_acc: 0.8899\n",
      "Epoch 4/20\n",
      "15000/15000 [==============================] - 1s 91us/step - loss: 0.2732 - acc: 0.9418 - val_loss: 0.3414 - val_acc: 0.8859\n",
      "Epoch 5/20\n",
      "15000/15000 [==============================] - 1s 86us/step - loss: 0.2144 - acc: 0.9533 - val_loss: 0.3231 - val_acc: 0.8859\n",
      "Epoch 6/20\n",
      "15000/15000 [==============================] - 1s 93us/step - loss: 0.1675 - acc: 0.9602 - val_loss: 0.3469 - val_acc: 0.8782\n",
      "Epoch 7/20\n",
      "15000/15000 [==============================] - 1s 87us/step - loss: 0.1309 - acc: 0.9676 - val_loss: 0.3387 - val_acc: 0.8811\n",
      "Epoch 8/20\n",
      "15000/15000 [==============================] - 1s 95us/step - loss: 0.1047 - acc: 0.9722 - val_loss: 0.3722 - val_acc: 0.8776\n",
      "Epoch 9/20\n",
      "15000/15000 [==============================] - 1s 88us/step - loss: 0.0851 - acc: 0.9773 - val_loss: 0.3869 - val_acc: 0.8774\n",
      "Epoch 10/20\n",
      "15000/15000 [==============================] - 1s 99us/step - loss: 0.0710 - acc: 0.9815 - val_loss: 0.4582 - val_acc: 0.8691\n",
      "Epoch 11/20\n",
      "15000/15000 [==============================] - 1s 84us/step - loss: 0.0609 - acc: 0.9840 - val_loss: 0.4514 - val_acc: 0.8727\n",
      "Epoch 12/20\n",
      "15000/15000 [==============================] - 1s 84us/step - loss: 0.0523 - acc: 0.9875 - val_loss: 0.4660 - val_acc: 0.8700\n",
      "Epoch 13/20\n",
      "15000/15000 [==============================] - 1s 84us/step - loss: 0.0456 - acc: 0.9895 - val_loss: 0.6352 - val_acc: 0.8537\n",
      "Epoch 14/20\n",
      "15000/15000 [==============================] - 1s 84us/step - loss: 0.0408 - acc: 0.9911 - val_loss: 0.6273 - val_acc: 0.8587\n",
      "Epoch 15/20\n",
      "15000/15000 [==============================] - 1s 84us/step - loss: 0.0366 - acc: 0.9928 - val_loss: 0.5883 - val_acc: 0.8605\n",
      "Epoch 16/20\n",
      "15000/15000 [==============================] - 1s 85us/step - loss: 0.0335 - acc: 0.9935 - val_loss: 0.6572 - val_acc: 0.8605\n",
      "Epoch 17/20\n",
      "15000/15000 [==============================] - 1s 85us/step - loss: 0.0307 - acc: 0.9941 - val_loss: 0.6638 - val_acc: 0.8600\n",
      "Epoch 18/20\n",
      "15000/15000 [==============================] - 1s 85us/step - loss: 0.0287 - acc: 0.9945 - val_loss: 0.6970 - val_acc: 0.8587\n",
      "Epoch 19/20\n",
      "15000/15000 [==============================] - 1s 86us/step - loss: 0.0279 - acc: 0.9947 - val_loss: 0.8021 - val_acc: 0.8528\n",
      "Epoch 20/20\n",
      "15000/15000 [==============================] - 1s 86us/step - loss: 0.0265 - acc: 0.9954 - val_loss: 0.8017 - val_acc: 0.8536\n"
     ]
    }
   ],
   "source": [
    "model = models.Sequential()\n",
    "model.add(layers.Dense(4, activation='relu', input_shape=(10000,)))\n",
    "model.add(layers.Dense(4, activation='relu'))\n",
    "model.add(layers.Dense(1, activation='sigmoid'))\n",
    "\n",
    "\n",
    "model.compile(loss='binary_crossentropy',\n",
    "              optimizer=optimizers.RMSprop(lr=0.001),\n",
    "              metrics=['accuracy'])\n",
    "\n",
    "history = model.fit(partial_x_train,\n",
    "                    partial_y_train,\n",
    "                    batch_size=batch_size,\n",
    "                    epochs=epochs,\n",
    "                    verbose=1,\n",
    "                    validation_data=(x_val, y_val))"
   ]
  },
  {
   "cell_type": "code",
   "execution_count": 11,
   "metadata": {},
   "outputs": [],
   "source": [
    "history_dict = history.history\n",
    "s_model_loss = history_dict['val_loss']"
   ]
  },
  {
   "cell_type": "code",
   "execution_count": 47,
   "metadata": {},
   "outputs": [
    {
     "data": {
      "image/png": "[encoded data removed]",
      "text/plain": [
       "<Figure size 720x432 with 1 Axes>"
      ]
     },
     "metadata": {
      "needs_background": "light"
     },
     "output_type": "display_data"
    }
   ],
   "source": [
    "import matplotlib.pyplot as plt\n",
    "\n",
    "num_epochs = range(1, len(s_model_loss) + 1)\n",
    "\n",
    "plt.figure(figsize=(10,6))\n",
    "\n",
    "plt.plot(num_epochs, l_model_loss, 'b', label='Large Model')\n",
    "plt.plot(num_epochs, m_model_loss, 'r', label='Original Model')\n",
    "plt.plot(num_epochs, s_model_loss, 'g', label='Small Model')\n",
    "plt.xlabel('Epochs')\n",
    "plt.ylabel('Validation Loss')\n",
    "plt.legend()\n",
    "\n",
    "plt.xticks(np.arange(0, 21, step=1))\n",
    "\n",
    "plt.show()"
   ]
  },
  {
   "cell_type": "markdown",
   "metadata": {},
   "source": [
    "## 权重正则化"
   ]
  },
  {
   "cell_type": "code",
   "execution_count": 25,
   "metadata": {},
   "outputs": [
    {
     "name": "stdout",
     "output_type": "stream",
     "text": [
      "Train on 15000 samples, validate on 10000 samples\n",
      "Epoch 1/20\n",
      "15000/15000 [==============================] - 3s 222us/step - loss: 0.4718 - acc: 0.8199 - val_loss: 0.3944 - val_acc: 0.8498\n",
      "Epoch 2/20\n",
      "15000/15000 [==============================] - 2s 109us/step - loss: 0.2827 - acc: 0.9118 - val_loss: 0.3272 - val_acc: 0.8848\n",
      "Epoch 3/20\n",
      "15000/15000 [==============================] - 1s 89us/step - loss: 0.2423 - acc: 0.9269 - val_loss: 0.3421 - val_acc: 0.8782\n",
      "Epoch 4/20\n",
      "15000/15000 [==============================] - 1s 91us/step - loss: 0.2209 - acc: 0.9369 - val_loss: 0.3580 - val_acc: 0.8799\n",
      "Epoch 5/20\n",
      "15000/15000 [==============================] - 1s 94us/step - loss: 0.2124 - acc: 0.9416 - val_loss: 0.3731 - val_acc: 0.8687\n",
      "Epoch 6/20\n",
      "15000/15000 [==============================] - 2s 100us/step - loss: 0.2004 - acc: 0.9451 - val_loss: 0.3917 - val_acc: 0.8668\n",
      "Epoch 7/20\n",
      "15000/15000 [==============================] - 1s 96us/step - loss: 0.1917 - acc: 0.9475 - val_loss: 0.3852 - val_acc: 0.8760\n",
      "Epoch 8/20\n",
      "15000/15000 [==============================] - 1s 91us/step - loss: 0.1869 - acc: 0.9499 - val_loss: 0.4311 - val_acc: 0.8694\n",
      "Epoch 9/20\n",
      "15000/15000 [==============================] - 1s 95us/step - loss: 0.1820 - acc: 0.9520 - val_loss: 0.4056 - val_acc: 0.8702\n",
      "Epoch 10/20\n",
      "15000/15000 [==============================] - 1s 91us/step - loss: 0.1735 - acc: 0.9549 - val_loss: 0.4505 - val_acc: 0.8580\n",
      "Epoch 11/20\n",
      "15000/15000 [==============================] - 1s 91us/step - loss: 0.1680 - acc: 0.9557 - val_loss: 0.4433 - val_acc: 0.8639\n",
      "Epoch 12/20\n",
      "15000/15000 [==============================] - 1s 96us/step - loss: 0.1624 - acc: 0.9605 - val_loss: 0.4418 - val_acc: 0.8688\n",
      "Epoch 13/20\n",
      "15000/15000 [==============================] - 1s 92us/step - loss: 0.1562 - acc: 0.9626 - val_loss: 0.4507 - val_acc: 0.8636\n",
      "Epoch 14/20\n",
      "15000/15000 [==============================] - 1s 99us/step - loss: 0.1553 - acc: 0.9616 - val_loss: 0.4409 - val_acc: 0.8677\n",
      "Epoch 15/20\n",
      "15000/15000 [==============================] - 1s 93us/step - loss: 0.1458 - acc: 0.9666 - val_loss: 0.4670 - val_acc: 0.8683\n",
      "Epoch 16/20\n",
      "15000/15000 [==============================] - 1s 94us/step - loss: 0.1417 - acc: 0.9691 - val_loss: 0.5003 - val_acc: 0.8639\n",
      "Epoch 17/20\n",
      "15000/15000 [==============================] - 1s 92us/step - loss: 0.1369 - acc: 0.9688 - val_loss: 0.4725 - val_acc: 0.8666\n",
      "Epoch 18/20\n",
      "15000/15000 [==============================] - 1s 91us/step - loss: 0.1338 - acc: 0.9705 - val_loss: 0.4841 - val_acc: 0.8671\n",
      "Epoch 19/20\n",
      "15000/15000 [==============================] - 1s 90us/step - loss: 0.1285 - acc: 0.9736 - val_loss: 0.5760 - val_acc: 0.8544\n",
      "Epoch 20/20\n",
      "15000/15000 [==============================] - 1s 92us/step - loss: 0.1276 - acc: 0.9730 - val_loss: 0.5567 - val_acc: 0.8583\n"
     ]
    }
   ],
   "source": [
    "from keras import regularizers\n",
    "\n",
    "model = models.Sequential()\n",
    "model.add(layers.Dense(16,\n",
    "                       kernel_regularizer=regularizers.l2(0.001),\n",
    "                       activation='relu',\n",
    "                       input_shape=(10000,)))\n",
    "model.add(layers.Dense(16,\n",
    "                       kernel_regularizer=regularizers.l2(0.001),\n",
    "                       activation='relu'))\n",
    "model.add(layers.Dense(1, activation='sigmoid'))\n",
    "\n",
    "model.compile(loss='binary_crossentropy',\n",
    "              optimizer=optimizers.RMSprop(lr=0.001),\n",
    "              metrics=['accuracy'])\n",
    "\n",
    "history = model.fit(partial_x_train,\n",
    "                    partial_y_train,\n",
    "                    batch_size=batch_size,\n",
    "                    epochs=epochs,\n",
    "                    verbose=1,\n",
    "                    validation_data=(x_val, y_val))"
   ]
  },
  {
   "cell_type": "code",
   "execution_count": 26,
   "metadata": {},
   "outputs": [],
   "source": [
    "history_dict = history.history\n",
    "l2_model_loss = history_dict['val_loss']"
   ]
  },
  {
   "cell_type": "code",
   "execution_count": 48,
   "metadata": {},
   "outputs": [
    {
     "data": {
      "image/png": "[encoded data removed]",
      "text/plain": [
       "<Figure size 720x432 with 1 Axes>"
      ]
     },
     "metadata": {
      "needs_background": "light"
     },
     "output_type": "display_data"
    }
   ],
   "source": [
    "plt.figure(figsize=(10,6))\n",
    "\n",
    "plt.plot(num_epochs, l2_model_loss, 'b', label='L2-regularized Model')\n",
    "plt.plot(num_epochs, m_model_loss, 'r', label='Original Model')\n",
    "plt.xlabel('Epochs')\n",
    "plt.ylabel('Validation Loss')\n",
    "plt.legend()\n",
    "\n",
    "plt.xticks(np.arange(0, 21, step=1))\n",
    "\n",
    "plt.show()"
   ]
  },
  {
   "cell_type": "markdown",
   "metadata": {},
   "source": [
    "## Dropout"
   ]
  },
  {
   "cell_type": "code",
   "execution_count": 46,
   "metadata": {},
   "outputs": [
    {
     "name": "stdout",
     "output_type": "stream",
     "text": [
      "Train on 15000 samples, validate on 10000 samples\n",
      "Epoch 1/20\n",
      "15000/15000 [==============================] - 4s 267us/step - loss: 0.5691 - acc: 0.6985 - val_loss: 0.3951 - val_acc: 0.8701\n",
      "Epoch 2/20\n",
      "15000/15000 [==============================] - 2s 107us/step - loss: 0.3984 - acc: 0.8417 - val_loss: 0.3155 - val_acc: 0.8790\n",
      "Epoch 3/20\n",
      "15000/15000 [==============================] - 1s 89us/step - loss: 0.3202 - acc: 0.8864 - val_loss: 0.2827 - val_acc: 0.8905\n",
      "Epoch 4/20\n",
      "15000/15000 [==============================] - 1s 89us/step - loss: 0.2710 - acc: 0.9086 - val_loss: 0.2835 - val_acc: 0.8904\n",
      "Epoch 5/20\n",
      "15000/15000 [==============================] - 1s 91us/step - loss: 0.2383 - acc: 0.9178 - val_loss: 0.3016 - val_acc: 0.8914\n",
      "Epoch 6/20\n",
      "15000/15000 [==============================] - 1s 91us/step - loss: 0.2147 - acc: 0.9291 - val_loss: 0.3183 - val_acc: 0.8865\n",
      "Epoch 7/20\n",
      "15000/15000 [==============================] - 1s 91us/step - loss: 0.2050 - acc: 0.9335 - val_loss: 0.3457 - val_acc: 0.8855\n",
      "Epoch 8/20\n",
      "15000/15000 [==============================] - 1s 92us/step - loss: 0.1884 - acc: 0.9392 - val_loss: 0.3707 - val_acc: 0.8830\n",
      "Epoch 9/20\n",
      "15000/15000 [==============================] - 1s 93us/step - loss: 0.1791 - acc: 0.9438 - val_loss: 0.3819 - val_acc: 0.8850\n",
      "Epoch 10/20\n",
      "15000/15000 [==============================] - 1s 94us/step - loss: 0.1749 - acc: 0.9465 - val_loss: 0.4099 - val_acc: 0.8874\n",
      "Epoch 11/20\n",
      "15000/15000 [==============================] - 1s 91us/step - loss: 0.1655 - acc: 0.9504 - val_loss: 0.4429 - val_acc: 0.8861\n",
      "Epoch 12/20\n",
      "15000/15000 [==============================] - 1s 91us/step - loss: 0.1547 - acc: 0.9521 - val_loss: 0.4468 - val_acc: 0.8805\n",
      "Epoch 13/20\n",
      "15000/15000 [==============================] - 1s 90us/step - loss: 0.1549 - acc: 0.9539 - val_loss: 0.4955 - val_acc: 0.8834\n",
      "Epoch 14/20\n",
      "15000/15000 [==============================] - 1s 96us/step - loss: 0.1604 - acc: 0.9543 - val_loss: 0.4807 - val_acc: 0.8830\n",
      "Epoch 15/20\n",
      "15000/15000 [==============================] - 1s 95us/step - loss: 0.1546 - acc: 0.9553 - val_loss: 0.4782 - val_acc: 0.8766\n",
      "Epoch 16/20\n",
      "15000/15000 [==============================] - 1s 92us/step - loss: 0.1419 - acc: 0.9591 - val_loss: 0.5055 - val_acc: 0.8802\n",
      "Epoch 17/20\n",
      "15000/15000 [==============================] - 1s 91us/step - loss: 0.1371 - acc: 0.9588 - val_loss: 0.5322 - val_acc: 0.8811\n",
      "Epoch 18/20\n",
      "15000/15000 [==============================] - 1s 90us/step - loss: 0.1386 - acc: 0.9611 - val_loss: 0.5360 - val_acc: 0.8812\n",
      "Epoch 19/20\n",
      "15000/15000 [==============================] - 1s 91us/step - loss: 0.1379 - acc: 0.9629 - val_loss: 0.5282 - val_acc: 0.8717\n",
      "Epoch 20/20\n",
      "15000/15000 [==============================] - 1s 94us/step - loss: 0.1468 - acc: 0.9606 - val_loss: 0.5429 - val_acc: 0.8806\n"
     ]
    }
   ],
   "source": [
    "model = models.Sequential()\n",
    "model.add(layers.Dense(16, activation='relu', input_shape=(10000,)))\n",
    "model.add(layers.Dropout(0.5))\n",
    "model.add(layers.Dense(16, activation='relu'))\n",
    "model.add(layers.Dropout(0.5))\n",
    "model.add(layers.Dense(1, activation='sigmoid'))\n",
    "\n",
    "\n",
    "model.compile(loss='binary_crossentropy',\n",
    "              optimizer=optimizers.RMSprop(lr=0.001),\n",
    "              metrics=['accuracy'])\n",
    "\n",
    "history = model.fit(partial_x_train,\n",
    "                    partial_y_train,\n",
    "                    batch_size=batch_size,\n",
    "                    epochs=epochs,\n",
    "                    verbose=1,\n",
    "                    validation_data=(x_val, y_val))"
   ]
  },
  {
   "cell_type": "code",
   "execution_count": 49,
   "metadata": {},
   "outputs": [],
   "source": [
    "history_dict = history.history\n",
    "dropout_model_loss = history_dict['val_loss']"
   ]
  },
  {
   "cell_type": "code",
   "execution_count": 50,
   "metadata": {},
   "outputs": [
    {
     "data": {
      "image/png": "[encoded data removed]",
      "text/plain": [
       "<Figure size 720x432 with 1 Axes>"
      ]
     },
     "metadata": {
      "needs_background": "light"
     },
     "output_type": "display_data"
    }
   ],
   "source": [
    "plt.figure(figsize=(10,6))\n",
    "\n",
    "plt.plot(num_epochs, dropout_model_loss, 'b', label='Dropout-regularized Model')\n",
    "plt.plot(num_epochs, m_model_loss, 'r', label='Original Model')\n",
    "plt.xlabel('Epochs')\n",
    "plt.ylabel('Validation Loss')\n",
    "plt.legend()\n",
    "\n",
    "plt.xticks(np.arange(0, 21, step=1))\n",
    "\n",
    "plt.show()"
   ]
  },
  {
   "cell_type": "code",
   "execution_count": null,
   "metadata": {},
   "outputs": [],
   "source": []
  }
 ],
 "metadata": {
  "kernelspec": {
   "display_name": "Python 3",
   "language": "python",
   "name": "python3"
  },
  "language_info": {
   "codemirror_mode": {
    "name": "ipython",
    "version": 3
   },
   "file_extension": ".py",
   "mimetype": "text/x-python",
   "name": "python",
   "nbconvert_exporter": "python",
   "pygments_lexer": "ipython3",
   "version": "3.7.3"
  }
 },
 "nbformat": 4,
 "nbformat_minor": 2
}
