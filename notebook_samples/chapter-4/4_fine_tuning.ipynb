{
 "cells": [
  {
   "cell_type": "markdown",
   "metadata": {},
   "source": [
    "# 深度学习基础"
   ]
  },
  {
   "cell_type": "markdown",
   "metadata": {},
   "source": [
    "## 4. 模型微调：青出于蓝而胜于蓝"
   ]
  },
  {
   "cell_type": "code",
   "execution_count": null,
   "metadata": {},
   "outputs": [],
   "source": [
    "from keras.preprocessing.image import ImageDataGenerator\n",
    "\n",
    "train_datagen = ImageDataGenerator(\n",
    "        rescale=1./255,\n",
    "        rotation_range=40,\n",
    "        width_shift_range=0.2,\n",
    "        height_shift_range=0.2,\n",
    "        shear_range=0.2,\n",
    "        zoom_range=0.2,\n",
    "        horizontal_flip=True,\n",
    "        fill_mode='nearest')\n",
    "\n",
    "test_datagen = ImageDataGenerator(rescale=1./255)\n",
    "\n",
    "train_generator = train_datagen.flow_from_directory(\n",
    "    train_dir,\n",
    "    target_size=(150, 150),\n",
    "    batch_size=20,\n",
    "    class_mode='binary')\n",
    "\n",
    "validation_generator = test_datagen.flow_from_directory(\n",
    "    train_dir,\n",
    "    target_size=(150, 150),\n",
    "    batch_size=20,\n",
    "    class_mode='binary')"
   ]
  },
  {
   "cell_type": "code",
   "execution_count": 50,
   "metadata": {},
   "outputs": [],
   "source": [
    "from keras import models\n",
    "from keras import layers\n",
    "\n",
    "from keras.applications import VGG16\n",
    "\n",
    "conv_base = VGG16(weights='imagenet',\n",
    "                  include_top=False,\n",
    "                  input_shape=(150, 150, 3))\n",
    "\n",
    "conv_base.trainable = True\n",
    "\n",
    "set_trainable = False\n",
    "for layer in conv_base.layers:\n",
    "    if layer.name == 'block5_conv1':\n",
    "        set_trainable = True\n",
    "    if set_trainable:\n",
    "        layer.trainable = True\n",
    "    else:\n",
    "        layer.trainable = False"
   ]
  },
  {
   "cell_type": "code",
   "execution_count": 51,
   "metadata": {},
   "outputs": [],
   "source": [
    "model.compile(loss='binary_crossentropy',\n",
    "              optimizer=optimizers.RMSprop(lr=2e-5),\n",
    "              metrics=['acc'])"
   ]
  },
  {
   "cell_type": "code",
   "execution_count": 52,
   "metadata": {},
   "outputs": [
    {
     "name": "stdout",
     "output_type": "stream",
     "text": [
      "Epoch 1/30\n",
      "50/50 [==============================] - 269s 5s/step - loss: 0.3467 - acc: 0.8470 - val_loss: 0.1972 - val_acc: 0.9240\n",
      "Epoch 2/30\n",
      "50/50 [==============================] - 223s 4s/step - loss: 0.3241 - acc: 0.8720 - val_loss: 0.1659 - val_acc: 0.9340\n",
      "Epoch 3/30\n",
      "50/50 [==============================] - 220s 4s/step - loss: 0.2852 - acc: 0.8730 - val_loss: 0.2698 - val_acc: 0.8910\n",
      "Epoch 4/30\n",
      "50/50 [==============================] - 224s 4s/step - loss: 0.3063 - acc: 0.8600 - val_loss: 0.1490 - val_acc: 0.9400\n",
      "Epoch 5/30\n",
      "50/50 [==============================] - 259s 5s/step - loss: 0.2568 - acc: 0.8940 - val_loss: 0.1253 - val_acc: 0.9480\n",
      "Epoch 6/30\n",
      "50/50 [==============================] - 274s 5s/step - loss: 0.2550 - acc: 0.8900 - val_loss: 0.1214 - val_acc: 0.9510\n",
      "Epoch 7/30\n",
      "50/50 [==============================] - 275s 6s/step - loss: 0.2241 - acc: 0.9080 - val_loss: 0.1191 - val_acc: 0.9540\n",
      "Epoch 8/30\n",
      "50/50 [==============================] - 344s 7s/step - loss: 0.2106 - acc: 0.9070 - val_loss: 0.1061 - val_acc: 0.9590\n",
      "Epoch 9/30\n",
      "50/50 [==============================] - 297s 6s/step - loss: 0.2080 - acc: 0.9170 - val_loss: 0.0828 - val_acc: 0.9710\n",
      "Epoch 10/30\n",
      "50/50 [==============================] - 280s 6s/step - loss: 0.1875 - acc: 0.9240 - val_loss: 0.1311 - val_acc: 0.9470\n",
      "Epoch 11/30\n",
      "50/50 [==============================] - 265s 5s/step - loss: 0.2002 - acc: 0.9180 - val_loss: 0.1095 - val_acc: 0.9520\n",
      "Epoch 12/30\n",
      "50/50 [==============================] - 238s 5s/step - loss: 0.2091 - acc: 0.9150 - val_loss: 0.1590 - val_acc: 0.9390\n",
      "Epoch 13/30\n",
      "50/50 [==============================] - 255s 5s/step - loss: 0.1627 - acc: 0.9390 - val_loss: 0.0804 - val_acc: 0.9710\n",
      "Epoch 14/30\n",
      "50/50 [==============================] - 293s 6s/step - loss: 0.2005 - acc: 0.9180 - val_loss: 0.0735 - val_acc: 0.9780\n",
      "Epoch 15/30\n",
      "50/50 [==============================] - 309s 6s/step - loss: 0.1656 - acc: 0.9300 - val_loss: 0.1591 - val_acc: 0.9370\n",
      "Epoch 16/30\n",
      "50/50 [==============================] - 295s 6s/step - loss: 0.1784 - acc: 0.9310 - val_loss: 0.0638 - val_acc: 0.9810\n",
      "Epoch 17/30\n",
      "50/50 [==============================] - 259s 5s/step - loss: 0.1410 - acc: 0.9330 - val_loss: 0.0557 - val_acc: 0.9800\n",
      "Epoch 18/30\n",
      "50/50 [==============================] - 257s 5s/step - loss: 0.1639 - acc: 0.9260 - val_loss: 0.0701 - val_acc: 0.9780\n",
      "Epoch 19/30\n",
      "50/50 [==============================] - 340s 7s/step - loss: 0.1769 - acc: 0.9360 - val_loss: 0.0645 - val_acc: 0.9820\n",
      "Epoch 20/30\n",
      "50/50 [==============================] - 342s 7s/step - loss: 0.1470 - acc: 0.9430 - val_loss: 0.0455 - val_acc: 0.9890\n",
      "Epoch 21/30\n",
      "50/50 [==============================] - 347s 7s/step - loss: 0.1665 - acc: 0.9280 - val_loss: 0.0554 - val_acc: 0.9800\n",
      "Epoch 22/30\n",
      "50/50 [==============================] - 316s 6s/step - loss: 0.1271 - acc: 0.9470 - val_loss: 0.0474 - val_acc: 0.9830\n",
      "Epoch 23/30\n",
      "50/50 [==============================] - 264s 5s/step - loss: 0.1276 - acc: 0.9420 - val_loss: 0.0548 - val_acc: 0.9800\n",
      "Epoch 24/30\n",
      "50/50 [==============================] - 305s 6s/step - loss: 0.1666 - acc: 0.9430 - val_loss: 0.0661 - val_acc: 0.9780\n",
      "Epoch 25/30\n",
      "50/50 [==============================] - 257s 5s/step - loss: 0.1430 - acc: 0.9380 - val_loss: 0.0501 - val_acc: 0.9850\n",
      "Epoch 26/30\n",
      "50/50 [==============================] - 244s 5s/step - loss: 0.1305 - acc: 0.9530 - val_loss: 0.0444 - val_acc: 0.9840\n",
      "Epoch 27/30\n",
      "50/50 [==============================] - 240s 5s/step - loss: 0.1434 - acc: 0.9420 - val_loss: 0.0309 - val_acc: 0.9910\n",
      "Epoch 28/30\n",
      "50/50 [==============================] - 235s 5s/step - loss: 0.1365 - acc: 0.9430 - val_loss: 0.0388 - val_acc: 0.9860\n",
      "Epoch 29/30\n",
      "50/50 [==============================] - 29043s 581s/step - loss: 0.1163 - acc: 0.9630 - val_loss: 0.0338 - val_acc: 0.9870\n",
      "Epoch 30/30\n",
      "50/50 [==============================] - 236s 5s/step - loss: 0.1134 - acc: 0.9600 - val_loss: 0.0362 - val_acc: 0.9840\n"
     ]
    }
   ],
   "source": [
    "history = model.fit(\n",
    "        train_generator,\n",
    "        steps_per_epoch=50,\n",
    "        epochs=30,\n",
    "        validation_data=validation_generator,\n",
    "        validation_steps=50)"
   ]
  },
  {
   "cell_type": "code",
   "execution_count": 53,
   "metadata": {},
   "outputs": [],
   "source": [
    "model.save('cats_and_dogs_small_5.h5')"
   ]
  },
  {
   "cell_type": "code",
   "execution_count": 54,
   "metadata": {},
   "outputs": [
    {
     "data": {
      "image/png": "[encoded data removed]",
      "text/plain": [
       "<Figure size 432x288 with 1 Axes>"
      ]
     },
     "metadata": {
      "needs_background": "light"
     },
     "output_type": "display_data"
    },
    {
     "data": {
      "image/png": "[encoded data removed]",
      "text/plain": [
       "<Figure size 432x288 with 1 Axes>"
      ]
     },
     "metadata": {
      "needs_background": "light"
     },
     "output_type": "display_data"
    }
   ],
   "source": [
    "import matplotlib.pyplot as plt\n",
    "acc = history.history['acc']\n",
    "val_acc = history.history['val_acc']\n",
    "loss = history.history['loss']\n",
    "val_loss = history.history['val_loss']\n",
    "\n",
    "epochs = range(1, len(acc) + 1)\n",
    "\n",
    "plt.plot(epochs, acc, 'bo', label='Training acc')\n",
    "plt.plot(epochs, val_acc, 'b', label='Validation acc')\n",
    "plt.title('Training and validation accuracy')\n",
    "plt.legend()\n",
    "\n",
    "plt.figure()\n",
    "\n",
    "plt.plot(epochs, loss, 'bo', label='Training loss')\n",
    "plt.plot(epochs, val_loss, 'b', label='Validation loss')\n",
    "plt.title('Training and validation loss')\n",
    "plt.legend()\n",
    "\n",
    "plt.show()"
   ]
  },
  {
   "cell_type": "code",
   "execution_count": null,
   "metadata": {},
   "outputs": [],
   "source": []
  }
 ],
 "metadata": {
  "kernelspec": {
   "display_name": "Python 3",
   "language": "python",
   "name": "python3"
  },
  "language_info": {
   "codemirror_mode": {
    "name": "ipython",
    "version": 3
   },
   "file_extension": ".py",
   "mimetype": "text/x-python",
   "name": "python",
   "nbconvert_exporter": "python",
   "pygments_lexer": "ipython3",
   "version": "3.7.3"
  }
 },
 "nbformat": 4,
 "nbformat_minor": 2
}
