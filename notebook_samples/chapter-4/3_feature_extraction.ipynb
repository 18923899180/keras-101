{
 "cells": [
  {
   "cell_type": "markdown",
   "metadata": {},
   "source": [
    "# 深度学习基础"
   ]
  },
  {
   "cell_type": "markdown",
   "metadata": {},
   "source": [
    "## 3.特征提取：站在巨人肩膀上\n",
    "\n",
    "\n",
    "从 VGG16 预训练模型中提取特征"
   ]
  },
  {
   "cell_type": "code",
   "execution_count": 35,
   "metadata": {},
   "outputs": [
    {
     "name": "stdout",
     "output_type": "stream",
     "text": [
      "Model: \"vgg16\"\n",
      "_________________________________________________________________\n",
      "Layer (type)                 Output Shape              Param #   \n",
      "=================================================================\n",
      "input_1 (InputLayer)         (None, 150, 150, 3)       0         \n",
      "_________________________________________________________________\n",
      "block1_conv1 (Conv2D)        (None, 150, 150, 64)      1792      \n",
      "_________________________________________________________________\n",
      "block1_conv2 (Conv2D)        (None, 150, 150, 64)      36928     \n",
      "_________________________________________________________________\n",
      "block1_pool (MaxPooling2D)   (None, 75, 75, 64)        0         \n",
      "_________________________________________________________________\n",
      "block2_conv1 (Conv2D)        (None, 75, 75, 128)       73856     \n",
      "_________________________________________________________________\n",
      "block2_conv2 (Conv2D)        (None, 75, 75, 128)       147584    \n",
      "_________________________________________________________________\n",
      "block2_pool (MaxPooling2D)   (None, 37, 37, 128)       0         \n",
      "_________________________________________________________________\n",
      "block3_conv1 (Conv2D)        (None, 37, 37, 256)       295168    \n",
      "_________________________________________________________________\n",
      "block3_conv2 (Conv2D)        (None, 37, 37, 256)       590080    \n",
      "_________________________________________________________________\n",
      "block3_conv3 (Conv2D)        (None, 37, 37, 256)       590080    \n",
      "_________________________________________________________________\n",
      "block3_pool (MaxPooling2D)   (None, 18, 18, 256)       0         \n",
      "_________________________________________________________________\n",
      "block4_conv1 (Conv2D)        (None, 18, 18, 512)       1180160   \n",
      "_________________________________________________________________\n",
      "block4_conv2 (Conv2D)        (None, 18, 18, 512)       2359808   \n",
      "_________________________________________________________________\n",
      "block4_conv3 (Conv2D)        (None, 18, 18, 512)       2359808   \n",
      "_________________________________________________________________\n",
      "block4_pool (MaxPooling2D)   (None, 9, 9, 512)         0         \n",
      "_________________________________________________________________\n",
      "block5_conv1 (Conv2D)        (None, 9, 9, 512)         2359808   \n",
      "_________________________________________________________________\n",
      "block5_conv2 (Conv2D)        (None, 9, 9, 512)         2359808   \n",
      "_________________________________________________________________\n",
      "block5_conv3 (Conv2D)        (None, 9, 9, 512)         2359808   \n",
      "_________________________________________________________________\n",
      "block5_pool (MaxPooling2D)   (None, 4, 4, 512)         0         \n",
      "=================================================================\n",
      "Total params: 14,714,688\n",
      "Trainable params: 14,714,688\n",
      "Non-trainable params: 0\n",
      "_________________________________________________________________\n"
     ]
    }
   ],
   "source": [
    "from keras.applications import VGG16\n",
    "\n",
    "conv_base = VGG16(weights='imagenet',\n",
    "                  include_top=False,\n",
    "                  input_shape=(150, 150, 3))\n",
    "\n",
    "conv_base.summary()"
   ]
  },
  {
   "cell_type": "markdown",
   "metadata": {},
   "source": [
    "## 3.1 快速特征提取"
   ]
  },
  {
   "cell_type": "code",
   "execution_count": 36,
   "metadata": {},
   "outputs": [],
   "source": [
    "import numpy as np\n",
    "\n",
    "from keras.preprocessing.image import ImageDataGenerator\n",
    "\n",
    "train_dir = 'data/train'\n",
    "\n",
    "validation_dir = 'data/validation'\n",
    "test_dir = 'data/test'\n",
    "\n",
    "\n",
    "datagen = ImageDataGenerator(rescale=1./255)\n",
    "batch_size = 20\n",
    "\n",
    "def extract_features(directory, sample_count):\n",
    "    features = np.zeros(shape=(sample_count, 4, 4, 512))\n",
    "    labels = np.zeros(shape=(sample_count))\n",
    "    generator = datagen.flow_from_directory(\n",
    "            directory,\n",
    "            target_size=(150, 150),\n",
    "            batch_size=batch_size,\n",
    "            class_mode='binary')\n",
    "\n",
    "    i=0\n",
    "    for inputs_batch, labels_batch in generator:\n",
    "        features_batch = conv_base.predict(inputs_batch)\n",
    "        features[i * batch_size : (i + 1) * batch_size] = features_batch\n",
    "        labels[i * batch_size : (i + 1) * batch_size] = labels_batch\n",
    "        i += 1\n",
    "        if i * batch_size >= sample_count:\n",
    "            break\n",
    "    return features, labels"
   ]
  },
  {
   "cell_type": "code",
   "execution_count": 37,
   "metadata": {},
   "outputs": [
    {
     "name": "stdout",
     "output_type": "stream",
     "text": [
      "Found 2000 images belonging to 2 classes.\n",
      "Found 1000 images belonging to 2 classes.\n",
      "Found 1000 images belonging to 2 classes.\n"
     ]
    }
   ],
   "source": [
    "train_features, train_labels = extract_features(train_dir, 2000)\n",
    "validation_features, validation_labels = extract_features(validation_dir, 1000)\n",
    "test_features, test_labels = extract_features(test_dir, 1000)"
   ]
  },
  {
   "cell_type": "code",
   "execution_count": 38,
   "metadata": {},
   "outputs": [],
   "source": [
    "# 目前，提取的特征形状为 (samples, 4, 4, 512)。\n",
    "# 我们要将其输入到密集连接分类器中， \n",
    "# 因此，必须先将其形状展平为 (samples, 8192)。\n",
    "train_features = np.reshape(train_features, (2000, 4 * 4 * 512))\n",
    "validation_features = np.reshape(validation_features, (1000, 4 * 4 * 512))\n",
    "test_features = np.reshape(test_features, (1000, 4 * 4 * 512))"
   ]
  },
  {
   "cell_type": "code",
   "execution_count": 39,
   "metadata": {},
   "outputs": [
    {
     "name": "stdout",
     "output_type": "stream",
     "text": [
      "Train on 2000 samples, validate on 1000 samples\n",
      "Epoch 1/30\n",
      "2000/2000 [==============================] - 3s 2ms/step - loss: 0.5703 - acc: 0.6950 - val_loss: 0.4347 - val_acc: 0.8330\n",
      "Epoch 2/30\n",
      "2000/2000 [==============================] - 1s 621us/step - loss: 0.4198 - acc: 0.8140 - val_loss: 0.3733 - val_acc: 0.8630\n",
      "Epoch 3/30\n",
      "2000/2000 [==============================] - 1s 611us/step - loss: 0.3645 - acc: 0.8485 - val_loss: 0.3303 - val_acc: 0.8690\n",
      "Epoch 4/30\n",
      "2000/2000 [==============================] - 1s 616us/step - loss: 0.3105 - acc: 0.8700 - val_loss: 0.3086 - val_acc: 0.8760\n",
      "Epoch 5/30\n",
      "2000/2000 [==============================] - 1s 607us/step - loss: 0.2998 - acc: 0.8730 - val_loss: 0.2952 - val_acc: 0.8800\n",
      "Epoch 6/30\n",
      "2000/2000 [==============================] - 1s 603us/step - loss: 0.2672 - acc: 0.8975 - val_loss: 0.2843 - val_acc: 0.8840\n",
      "Epoch 7/30\n",
      "2000/2000 [==============================] - 1s 716us/step - loss: 0.2468 - acc: 0.9015 - val_loss: 0.2694 - val_acc: 0.8860\n",
      "Epoch 8/30\n",
      "2000/2000 [==============================] - 1s 612us/step - loss: 0.2346 - acc: 0.9040 - val_loss: 0.2642 - val_acc: 0.8890\n",
      "Epoch 9/30\n",
      "2000/2000 [==============================] - 1s 670us/step - loss: 0.2241 - acc: 0.9180 - val_loss: 0.2649 - val_acc: 0.8890\n",
      "Epoch 10/30\n",
      "2000/2000 [==============================] - 1s 594us/step - loss: 0.2093 - acc: 0.9245 - val_loss: 0.2568 - val_acc: 0.8910\n",
      "Epoch 11/30\n",
      "2000/2000 [==============================] - 1s 628us/step - loss: 0.1944 - acc: 0.9335 - val_loss: 0.2608 - val_acc: 0.8880\n",
      "Epoch 12/30\n",
      "2000/2000 [==============================] - 1s 629us/step - loss: 0.1936 - acc: 0.9265 - val_loss: 0.2638 - val_acc: 0.8830\n",
      "Epoch 13/30\n",
      "2000/2000 [==============================] - 1s 589us/step - loss: 0.1799 - acc: 0.9335 - val_loss: 0.2531 - val_acc: 0.8920\n",
      "Epoch 14/30\n",
      "2000/2000 [==============================] - 1s 635us/step - loss: 0.1699 - acc: 0.9395 - val_loss: 0.2442 - val_acc: 0.9030\n",
      "Epoch 15/30\n",
      "2000/2000 [==============================] - 1s 690us/step - loss: 0.1636 - acc: 0.9395 - val_loss: 0.2409 - val_acc: 0.9030\n",
      "Epoch 16/30\n",
      "2000/2000 [==============================] - 1s 600us/step - loss: 0.1553 - acc: 0.9440 - val_loss: 0.2414 - val_acc: 0.9000\n",
      "Epoch 17/30\n",
      "2000/2000 [==============================] - 1s 665us/step - loss: 0.1494 - acc: 0.9495 - val_loss: 0.2427 - val_acc: 0.8980\n",
      "Epoch 18/30\n",
      "2000/2000 [==============================] - 1s 645us/step - loss: 0.1511 - acc: 0.9470 - val_loss: 0.2401 - val_acc: 0.9020\n",
      "Epoch 19/30\n",
      "2000/2000 [==============================] - 1s 608us/step - loss: 0.1387 - acc: 0.9535 - val_loss: 0.2457 - val_acc: 0.8980\n",
      "Epoch 20/30\n",
      "2000/2000 [==============================] - 1s 680us/step - loss: 0.1372 - acc: 0.9525 - val_loss: 0.2469 - val_acc: 0.8990\n",
      "Epoch 21/30\n",
      "2000/2000 [==============================] - 1s 619us/step - loss: 0.1265 - acc: 0.9520 - val_loss: 0.2442 - val_acc: 0.8970\n",
      "Epoch 22/30\n",
      "2000/2000 [==============================] - 1s 594us/step - loss: 0.1276 - acc: 0.9545 - val_loss: 0.2379 - val_acc: 0.9010\n",
      "Epoch 23/30\n",
      "2000/2000 [==============================] - 1s 598us/step - loss: 0.1230 - acc: 0.9585 - val_loss: 0.2367 - val_acc: 0.9030\n",
      "Epoch 24/30\n",
      "2000/2000 [==============================] - 1s 660us/step - loss: 0.1137 - acc: 0.9635 - val_loss: 0.2455 - val_acc: 0.9040\n",
      "Epoch 25/30\n",
      "2000/2000 [==============================] - 1s 664us/step - loss: 0.1074 - acc: 0.9665 - val_loss: 0.2421 - val_acc: 0.9040\n",
      "Epoch 26/30\n",
      "2000/2000 [==============================] - 1s 605us/step - loss: 0.1064 - acc: 0.9655 - val_loss: 0.2446 - val_acc: 0.9010\n",
      "Epoch 27/30\n",
      "2000/2000 [==============================] - 1s 583us/step - loss: 0.1011 - acc: 0.9680 - val_loss: 0.2411 - val_acc: 0.9030\n",
      "Epoch 28/30\n",
      "2000/2000 [==============================] - 1s 699us/step - loss: 0.0952 - acc: 0.9735 - val_loss: 0.2404 - val_acc: 0.9030\n",
      "Epoch 29/30\n",
      "2000/2000 [==============================] - 1s 649us/step - loss: 0.0937 - acc: 0.9700 - val_loss: 0.2535 - val_acc: 0.8970\n",
      "Epoch 30/30\n",
      "2000/2000 [==============================] - 1s 687us/step - loss: 0.0925 - acc: 0.9695 - val_loss: 0.2472 - val_acc: 0.9000\n"
     ]
    }
   ],
   "source": [
    "from keras import models, layers, optimizers\n",
    "\n",
    "model = models.Sequential()\n",
    "model.add(layers.Dense(256, activation='relu', input_dim=4 * 4 * 512))\n",
    "model.add(layers.Dropout(0.5))\n",
    "model.add(layers.Dense(1, activation='sigmoid'))\n",
    "\n",
    "model.compile(optimizer=optimizers.RMSprop(lr=2e-5),\n",
    "              loss='binary_crossentropy',\n",
    "              metrics=['acc'])\n",
    "\n",
    "history = model.fit(train_features,\n",
    "                    train_labels,\n",
    "                    epochs=30,\n",
    "                    batch_size=20,\n",
    "                    validation_data=(validation_features, validation_labels))"
   ]
  },
  {
   "cell_type": "code",
   "execution_count": 40,
   "metadata": {},
   "outputs": [],
   "source": [
    "model.save('cats_and_dogs_small_3.h5')"
   ]
  },
  {
   "cell_type": "code",
   "execution_count": 41,
   "metadata": {},
   "outputs": [
    {
     "data": {
      "image/png": "[encoded data removed]",
      "text/plain": [
       "<Figure size 432x288 with 1 Axes>"
      ]
     },
     "metadata": {
      "needs_background": "light"
     },
     "output_type": "display_data"
    },
    {
     "data": {
      "image/png": "[encoded data removed]",
      "text/plain": [
       "<Figure size 432x288 with 1 Axes>"
      ]
     },
     "metadata": {
      "needs_background": "light"
     },
     "output_type": "display_data"
    }
   ],
   "source": [
    "import matplotlib.pyplot as plt\n",
    "acc = history.history['acc']\n",
    "val_acc = history.history['val_acc']\n",
    "loss = history.history['loss']\n",
    "val_loss = history.history['val_loss']\n",
    "\n",
    "epochs = range(1, len(acc) + 1)\n",
    "\n",
    "plt.plot(epochs, acc, 'bo', label='Training acc')\n",
    "plt.plot(epochs, val_acc, 'b', label='Validation acc')\n",
    "plt.title('Training and validation accuracy')\n",
    "plt.legend()\n",
    "\n",
    "plt.figure()\n",
    "\n",
    "plt.plot(epochs, loss, 'bo', label='Training loss')\n",
    "plt.plot(epochs, val_loss, 'b', label='Validation loss')\n",
    "plt.title('Training and validation loss')\n",
    "plt.legend()\n",
    "\n",
    "plt.show()"
   ]
  },
  {
   "cell_type": "markdown",
   "metadata": {},
   "source": [
    "## 3.2 使用数据增强的特征提取"
   ]
  },
  {
   "cell_type": "code",
   "execution_count": 42,
   "metadata": {},
   "outputs": [
    {
     "name": "stdout",
     "output_type": "stream",
     "text": [
      "Model: \"sequential_5\"\n",
      "_________________________________________________________________\n",
      "Layer (type)                 Output Shape              Param #   \n",
      "=================================================================\n",
      "vgg16 (Model)                (None, 4, 4, 512)         14714688  \n",
      "_________________________________________________________________\n",
      "flatten_4 (Flatten)          (None, 8192)              0         \n",
      "_________________________________________________________________\n",
      "dense_9 (Dense)              (None, 256)               2097408   \n",
      "_________________________________________________________________\n",
      "dense_10 (Dense)             (None, 1)                 257       \n",
      "=================================================================\n",
      "Total params: 16,812,353\n",
      "Trainable params: 16,812,353\n",
      "Non-trainable params: 0\n",
      "_________________________________________________________________\n"
     ]
    }
   ],
   "source": [
    "from keras import models\n",
    "from keras import layers\n",
    "\n",
    "model = models.Sequential()\n",
    "model.add(conv_base)\n",
    "model.add(layers.Flatten())\n",
    "model.add(layers.Dense(256, activation='relu'))\n",
    "model.add(layers.Dense(1, activation='sigmoid'))\n",
    "\n",
    "model.summary()"
   ]
  },
  {
   "cell_type": "code",
   "execution_count": 43,
   "metadata": {},
   "outputs": [
    {
     "data": {
      "text/plain": [
       "[<tf.Variable 'dense_9/kernel:0' shape=(8192, 256) dtype=float32_ref>,\n",
       " <tf.Variable 'dense_9/bias:0' shape=(256,) dtype=float32_ref>,\n",
       " <tf.Variable 'dense_10/kernel:0' shape=(256, 1) dtype=float32_ref>,\n",
       " <tf.Variable 'dense_10/bias:0' shape=(1,) dtype=float32_ref>]"
      ]
     },
     "execution_count": 43,
     "metadata": {},
     "output_type": "execute_result"
    }
   ],
   "source": [
    "conv_base.trainable = False\n",
    "model.trainable_weights"
   ]
  },
  {
   "cell_type": "code",
   "execution_count": 44,
   "metadata": {},
   "outputs": [],
   "source": [
    "train_datagen = ImageDataGenerator(\n",
    "        rescale=1./255,\n",
    "        rotation_range=40,\n",
    "        width_shift_range=0.2,\n",
    "        height_shift_range=0.2,\n",
    "        shear_range=0.2,\n",
    "        zoom_range=0.2,\n",
    "        horizontal_flip=True,\n",
    "        fill_mode='nearest')\n",
    "\n",
    "test_datagen = ImageDataGenerator(rescale=1./255)"
   ]
  },
  {
   "cell_type": "code",
   "execution_count": 45,
   "metadata": {},
   "outputs": [
    {
     "name": "stdout",
     "output_type": "stream",
     "text": [
      "Found 2000 images belonging to 2 classes.\n",
      "Found 2000 images belonging to 2 classes.\n"
     ]
    }
   ],
   "source": [
    "train_generator = train_datagen.flow_from_directory(\n",
    "    train_dir,\n",
    "    target_size=(150, 150),\n",
    "    batch_size=20,\n",
    "    class_mode='binary')\n",
    "\n",
    "validation_generator = test_datagen.flow_from_directory(\n",
    "    train_dir,\n",
    "    target_size=(150, 150),\n",
    "    batch_size=20,\n",
    "    class_mode='binary')"
   ]
  },
  {
   "cell_type": "code",
   "execution_count": 46,
   "metadata": {},
   "outputs": [],
   "source": [
    "model.compile(loss='binary_crossentropy',\n",
    "              optimizer=optimizers.RMSprop(lr=2e-5),\n",
    "              metrics=['acc'])"
   ]
  },
  {
   "cell_type": "code",
   "execution_count": 47,
   "metadata": {},
   "outputs": [
    {
     "name": "stdout",
     "output_type": "stream",
     "text": [
      "Epoch 1/30\n",
      "50/50 [==============================] - 237s 5s/step - loss: 0.6490 - acc: 0.6120 - val_loss: 0.5407 - val_acc: 0.7670\n",
      "Epoch 2/30\n",
      "50/50 [==============================] - 251s 5s/step - loss: 0.5575 - acc: 0.7570 - val_loss: 0.4561 - val_acc: 0.8250\n",
      "Epoch 3/30\n",
      "50/50 [==============================] - 261s 5s/step - loss: 0.5102 - acc: 0.7620 - val_loss: 0.3957 - val_acc: 0.8490\n",
      "Epoch 4/30\n",
      "50/50 [==============================] - 261s 5s/step - loss: 0.4560 - acc: 0.8100 - val_loss: 0.3751 - val_acc: 0.8540\n",
      "Epoch 5/30\n",
      "50/50 [==============================] - 252s 5s/step - loss: 0.4434 - acc: 0.8060 - val_loss: 0.3386 - val_acc: 0.8650\n",
      "Epoch 6/30\n",
      "50/50 [==============================] - 259s 5s/step - loss: 0.4383 - acc: 0.7980 - val_loss: 0.3292 - val_acc: 0.8660\n",
      "Epoch 7/30\n",
      "50/50 [==============================] - 226s 5s/step - loss: 0.4055 - acc: 0.8290 - val_loss: 0.3146 - val_acc: 0.8690\n",
      "Epoch 8/30\n",
      "50/50 [==============================] - 225s 5s/step - loss: 0.3922 - acc: 0.8130 - val_loss: 0.2953 - val_acc: 0.8870\n",
      "Epoch 9/30\n",
      "50/50 [==============================] - 247s 5s/step - loss: 0.3915 - acc: 0.8310 - val_loss: 0.2988 - val_acc: 0.8650\n",
      "Epoch 10/30\n",
      "50/50 [==============================] - 276s 6s/step - loss: 0.3860 - acc: 0.8330 - val_loss: 0.2840 - val_acc: 0.8890\n",
      "Epoch 11/30\n",
      "50/50 [==============================] - 277s 6s/step - loss: 0.3876 - acc: 0.8150 - val_loss: 0.2625 - val_acc: 0.9020\n",
      "Epoch 12/30\n",
      "50/50 [==============================] - 237s 5s/step - loss: 0.3533 - acc: 0.8460 - val_loss: 0.2815 - val_acc: 0.8840\n",
      "Epoch 13/30\n",
      "50/50 [==============================] - 218s 4s/step - loss: 0.3635 - acc: 0.8540 - val_loss: 0.2725 - val_acc: 0.8940\n",
      "Epoch 14/30\n",
      "50/50 [==============================] - 221s 4s/step - loss: 0.3455 - acc: 0.8500 - val_loss: 0.2569 - val_acc: 0.8960\n",
      "Epoch 15/30\n",
      "50/50 [==============================] - 220s 4s/step - loss: 0.3444 - acc: 0.8490 - val_loss: 0.2635 - val_acc: 0.8910\n",
      "Epoch 16/30\n",
      "50/50 [==============================] - 216s 4s/step - loss: 0.3415 - acc: 0.8520 - val_loss: 0.2518 - val_acc: 0.8900\n",
      "Epoch 17/30\n",
      "50/50 [==============================] - 216s 4s/step - loss: 0.3379 - acc: 0.8600 - val_loss: 0.2297 - val_acc: 0.9140\n",
      "Epoch 18/30\n",
      "50/50 [==============================] - 217s 4s/step - loss: 0.3943 - acc: 0.8170 - val_loss: 0.2639 - val_acc: 0.8980\n",
      "Epoch 19/30\n",
      "50/50 [==============================] - 216s 4s/step - loss: 0.3559 - acc: 0.8370 - val_loss: 0.2424 - val_acc: 0.9020\n",
      "Epoch 20/30\n",
      "50/50 [==============================] - 217s 4s/step - loss: 0.3171 - acc: 0.8690 - val_loss: 0.2482 - val_acc: 0.8990\n",
      "Epoch 21/30\n",
      "50/50 [==============================] - 217s 4s/step - loss: 0.3328 - acc: 0.8590 - val_loss: 0.2418 - val_acc: 0.8990\n",
      "Epoch 22/30\n",
      "50/50 [==============================] - 218s 4s/step - loss: 0.3489 - acc: 0.8540 - val_loss: 0.2289 - val_acc: 0.9120\n",
      "Epoch 23/30\n",
      "50/50 [==============================] - 219s 4s/step - loss: 0.3176 - acc: 0.8580 - val_loss: 0.2372 - val_acc: 0.9020\n",
      "Epoch 24/30\n",
      "50/50 [==============================] - 219s 4s/step - loss: 0.3446 - acc: 0.8400 - val_loss: 0.2319 - val_acc: 0.9070\n",
      "Epoch 25/30\n",
      "50/50 [==============================] - 220s 4s/step - loss: 0.3432 - acc: 0.8450 - val_loss: 0.2480 - val_acc: 0.8940\n",
      "Epoch 26/30\n",
      "50/50 [==============================] - 224s 4s/step - loss: 0.3191 - acc: 0.8580 - val_loss: 0.2131 - val_acc: 0.9180\n",
      "Epoch 27/30\n",
      "50/50 [==============================] - 233s 5s/step - loss: 0.3329 - acc: 0.8550 - val_loss: 0.2121 - val_acc: 0.9230\n",
      "Epoch 28/30\n",
      "50/50 [==============================] - 240s 5s/step - loss: 0.3280 - acc: 0.8570 - val_loss: 0.2340 - val_acc: 0.9060\n",
      "Epoch 29/30\n",
      "50/50 [==============================] - 245s 5s/step - loss: 0.3195 - acc: 0.8590 - val_loss: 0.2330 - val_acc: 0.9020\n",
      "Epoch 30/30\n",
      "50/50 [==============================] - 250s 5s/step - loss: 0.3168 - acc: 0.8710 - val_loss: 0.2434 - val_acc: 0.8990\n"
     ]
    }
   ],
   "source": [
    "history = model.fit(\n",
    "        train_generator,\n",
    "        steps_per_epoch=50,\n",
    "        epochs=30,\n",
    "        validation_data=validation_generator,\n",
    "        validation_steps=50)"
   ]
  },
  {
   "cell_type": "code",
   "execution_count": 48,
   "metadata": {},
   "outputs": [],
   "source": [
    "model.save('cats_and_dogs_small_4.h5')"
   ]
  },
  {
   "cell_type": "code",
   "execution_count": 49,
   "metadata": {},
   "outputs": [
    {
     "data": {
      "image/png": "[encoded data removed]",
      "text/plain": [
       "<Figure size 432x288 with 1 Axes>"
      ]
     },
     "metadata": {
      "needs_background": "light"
     },
     "output_type": "display_data"
    },
    {
     "data": {
      "image/png": "[encoded data removed]",
      "text/plain": [
       "<Figure size 432x288 with 1 Axes>"
      ]
     },
     "metadata": {
      "needs_background": "light"
     },
     "output_type": "display_data"
    }
   ],
   "source": [
    "import matplotlib.pyplot as plt\n",
    "acc = history.history['acc']\n",
    "val_acc = history.history['val_acc']\n",
    "loss = history.history['loss']\n",
    "val_loss = history.history['val_loss']\n",
    "\n",
    "epochs = range(1, len(acc) + 1)\n",
    "\n",
    "plt.plot(epochs, acc, 'bo', label='Training acc')\n",
    "plt.plot(epochs, val_acc, 'b', label='Validation acc')\n",
    "plt.title('Training and validation accuracy')\n",
    "plt.legend()\n",
    "\n",
    "plt.figure()\n",
    "\n",
    "plt.plot(epochs, loss, 'bo', label='Training loss')\n",
    "plt.plot(epochs, val_loss, 'b', label='Validation loss')\n",
    "plt.title('Training and validation loss')\n",
    "plt.legend()\n",
    "\n",
    "plt.show()"
   ]
  }
 ],
 "metadata": {
  "kernelspec": {
   "display_name": "Python 3",
   "language": "python",
   "name": "python3"
  },
  "language_info": {
   "codemirror_mode": {
    "name": "ipython",
    "version": 3
   },
   "file_extension": ".py",
   "mimetype": "text/x-python",
   "name": "python",
   "nbconvert_exporter": "python",
   "pygments_lexer": "ipython3",
   "version": "3.7.3"
  }
 },
 "nbformat": 4,
 "nbformat_minor": 2
}
